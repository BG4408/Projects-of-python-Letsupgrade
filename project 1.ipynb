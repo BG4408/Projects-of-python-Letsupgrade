{
 "cells": [
  {
   "cell_type": "code",
   "execution_count": null,
   "metadata": {},
   "outputs": [],
   "source": [
    "import onetimepad"
   ]
  },
  {
   "cell_type": "code",
   "execution_count": 1,
   "metadata": {},
   "outputs": [
    {
     "name": "stdout",
     "output_type": "stream",
     "text": [
      "Collecting onetimepad\n",
      "  Downloading onetimepad-1.4.tar.gz (3.3 kB)\n",
      "Building wheels for collected packages: onetimepad\n",
      "  Building wheel for onetimepad (setup.py) ... \u001b[?25ldone\n",
      "\u001b[?25h  Created wheel for onetimepad: filename=onetimepad-1.4-py3-none-any.whl size=3882 sha256=1d905c6339f911bb4532b851b16315397e7ae50ef280ed5626a816172fe484e2\n",
      "  Stored in directory: /home/vivek/.cache/pip/wheels/64/1b/26/414127c44690b5adf2378ea1912fd1465cb89695669125909c\n",
      "Successfully built onetimepad\n",
      "Installing collected packages: onetimepad\n",
      "Successfully installed onetimepad-1.4\n",
      "Note: you may need to restart the kernel to use updated packages.\n"
     ]
    }
   ],
   "source": [
    "pip install onetimepad\n"
   ]
  },
  {
   "cell_type": "code",
   "execution_count": 2,
   "metadata": {},
   "outputs": [],
   "source": [
    "# python module for one-timepad \n",
    "import onetimepad \n",
    "# python module to create GUI\t\t \n",
    "from tkinter import *\n",
    "\n",
    "\t\t\n",
    "root = Tk() \n",
    "root.title(\"CRYPTOGRAPHY\") \n",
    "root.geometry(\"800x600\") \n",
    "\n",
    "def encryptMessage():\t\t\t\t\t \n",
    "\tpt = e1.get() \n",
    "\n",
    "\t# inbuilt function to encrypt a message \n",
    "\tct = onetimepad.encrypt(pt, 'random') \n",
    "\te2.insert(0, ct) \n",
    "\n",
    "def decryptMessage():\t\t\t\t\t \n",
    "\tct1 = e3.get() \n",
    "\n",
    "\t# inbuilt function to decrypt a message \n",
    "\tpt1 = onetimepad.decrypt(ct1, 'random') \n",
    "\te4.insert(0, pt1) \n",
    "\t\n",
    "# creating labels and positioning them on the grid \n",
    "label1 = Label(root, text ='plain text')\t\t\t \n",
    "label1.grid(row = 10, column = 1) \n",
    "label2 = Label(root, text ='encrypted text') \n",
    "label2.grid(row = 11, column = 1) \n",
    "l3 = Label(root, text =\"cipher text\") \n",
    "l3.grid(row = 10, column = 10) \n",
    "l4 = Label(root, text =\"decrypted text\") \n",
    "l4.grid(row = 11, column = 10) \n",
    "\n",
    "# creating entries and positioning them on the grid \n",
    "e1 = Entry(root) \n",
    "e1.grid(row = 10, column = 2) \n",
    "e2 = Entry(root) \n",
    "e2.grid(row = 11, column = 2) \n",
    "e3 = Entry(root) \n",
    "e3.grid(row = 10, column = 11) \n",
    "e4 = Entry(root) \n",
    "e4.grid(row = 11, column = 11) \n",
    "\n",
    "# creating encryption button to produce the output \n",
    "ent = Button(root, text = \"encrypt\", bg =\"red\", fg =\"white\", command = encryptMessage) \n",
    "ent.grid(row = 13, column = 2) \n",
    "\n",
    "# creating decryption button to produce the output \n",
    "b2 = Button(root, text = \"decrypt\", bg =\"green\", fg =\"white\", command = decryptMessage) \n",
    "b2.grid(row = 13, column = 11) \n",
    "\n",
    "\n",
    "root.mainloop()"
   ]
  },
  {
   "cell_type": "code",
   "execution_count": null,
   "metadata": {},
   "outputs": [],
   "source": []
  }
 ],
 "metadata": {
  "kernelspec": {
   "display_name": "Python 3",
   "language": "python",
   "name": "python3"
  },
  "language_info": {
   "codemirror_mode": {
    "name": "ipython",
    "version": 3
   },
   "file_extension": ".py",
   "mimetype": "text/x-python",
   "name": "python",
   "nbconvert_exporter": "python",
   "pygments_lexer": "ipython3",
   "version": "3.8.5"
  }
 },
 "nbformat": 4,
 "nbformat_minor": 4
}
